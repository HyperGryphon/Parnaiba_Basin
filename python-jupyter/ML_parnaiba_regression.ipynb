{
 "cells": [
  {
   "cell_type": "code",
   "execution_count": 10,
   "metadata": {},
   "outputs": [],
   "source": [
    "import pandas as pd\n",
    "from pandas import DataFrame\n",
    "import numpy as np\n",
    "import matplotlib.pyplot as plt\n",
    "import matplotlib.mlab as mlab\n",
    "import seaborn as sns\n",
    "import scipy\n",
    "from scipy import stats\n",
    "from scipy import stats\n",
    "import sklearn\n",
    "from numpy import unique\n",
    "from numpy import where\n",
    "from sklearn.datasets import make_classification\n",
    "from sklearn.mixture import GaussianMixture\n",
    "#import skbio.stats.composition as comp\n",
    "import plotly.express as px\n",
    "from imblearn.over_sampling import SMOTE\n",
    "from sklearn.model_selection import train_test_split\n",
    "from sklearn import svm # SVC para classificação (target discreto) e SVR para regressão (traget contínuo)\n",
    "from sklearn.ensemble import RandomForestClassifier #só classificação\n",
    "from sklearn.neighbors import KNeighborsClassifier\n",
    "from sklearn.neural_network import MLPClassifier\n",
    "from sklearn.naive_bayes import GaussianNB\n",
    "from sklearn.naive_bayes import MultinomialNB\n",
    "from sklearn.naive_bayes import ComplementNB\n",
    "from sklearn.naive_bayes import BernoulliNB\n",
    "from sklearn.naive_bayes import CategoricalNB\n",
    "from sklearn import metrics\n",
    "import GeoSed_stat_funcs as gs\n",
    "from sklearn.metrics import mean_squared_error\n",
    "from sklearn.ensemble import RandomForestRegressor"
   ]
  },
  {
   "cell_type": "code",
   "execution_count": 11,
   "metadata": {},
   "outputs": [
    {
     "data": {
      "text/html": [
       "<div>\n",
       "<style scoped>\n",
       "    .dataframe tbody tr th:only-of-type {\n",
       "        vertical-align: middle;\n",
       "    }\n",
       "\n",
       "    .dataframe tbody tr th {\n",
       "        vertical-align: top;\n",
       "    }\n",
       "\n",
       "    .dataframe thead th {\n",
       "        text-align: right;\n",
       "    }\n",
       "</style>\n",
       "<table border=\"1\" class=\"dataframe\">\n",
       "  <thead>\n",
       "    <tr style=\"text-align: right;\">\n",
       "      <th></th>\n",
       "      <th>sample</th>\n",
       "      <th>Unit</th>\n",
       "      <th>Group</th>\n",
       "      <th>BOSL1s</th>\n",
       "      <th>BOSLF</th>\n",
       "      <th>BOSLM</th>\n",
       "      <th>BOSLS</th>\n",
       "      <th>IRSL1.2s/BOSL1s</th>\n",
       "      <th>TL110oC</th>\n",
       "      <th>TL110pos</th>\n",
       "      <th>TL325pos</th>\n",
       "    </tr>\n",
       "  </thead>\n",
       "  <tbody>\n",
       "    <tr>\n",
       "      <th>0</th>\n",
       "      <td>bp100</td>\n",
       "      <td>Serra Grande</td>\n",
       "      <td>Serra Grande</td>\n",
       "      <td>12.811713</td>\n",
       "      <td>38.068407</td>\n",
       "      <td>33.330574</td>\n",
       "      <td>28.601019</td>\n",
       "      <td>19.076664</td>\n",
       "      <td>76.183863</td>\n",
       "      <td>96.2</td>\n",
       "      <td>325.8</td>\n",
       "    </tr>\n",
       "    <tr>\n",
       "      <th>1</th>\n",
       "      <td>bp100</td>\n",
       "      <td>Serra Grande</td>\n",
       "      <td>Serra Grande</td>\n",
       "      <td>12.221442</td>\n",
       "      <td>38.772984</td>\n",
       "      <td>31.830463</td>\n",
       "      <td>29.396553</td>\n",
       "      <td>29.591771</td>\n",
       "      <td>75.658334</td>\n",
       "      <td>96.2</td>\n",
       "      <td>325.8</td>\n",
       "    </tr>\n",
       "    <tr>\n",
       "      <th>2</th>\n",
       "      <td>bp100</td>\n",
       "      <td>Serra Grande</td>\n",
       "      <td>Serra Grande</td>\n",
       "      <td>13.004011</td>\n",
       "      <td>40.739419</td>\n",
       "      <td>32.236592</td>\n",
       "      <td>27.023990</td>\n",
       "      <td>17.354350</td>\n",
       "      <td>77.313586</td>\n",
       "      <td>96.2</td>\n",
       "      <td>325.8</td>\n",
       "    </tr>\n",
       "    <tr>\n",
       "      <th>3</th>\n",
       "      <td>bp100</td>\n",
       "      <td>Serra Grande</td>\n",
       "      <td>Serra Grande</td>\n",
       "      <td>11.314952</td>\n",
       "      <td>39.443369</td>\n",
       "      <td>31.129080</td>\n",
       "      <td>29.427551</td>\n",
       "      <td>27.822570</td>\n",
       "      <td>76.931064</td>\n",
       "      <td>96.2</td>\n",
       "      <td>324.0</td>\n",
       "    </tr>\n",
       "    <tr>\n",
       "      <th>4</th>\n",
       "      <td>bp102</td>\n",
       "      <td>Serra Grande</td>\n",
       "      <td>Serra Grande</td>\n",
       "      <td>3.490668</td>\n",
       "      <td>5.954731</td>\n",
       "      <td>19.595849</td>\n",
       "      <td>74.449419</td>\n",
       "      <td>121.146848</td>\n",
       "      <td>58.377886</td>\n",
       "      <td>98.0</td>\n",
       "      <td>334.8</td>\n",
       "    </tr>\n",
       "  </tbody>\n",
       "</table>\n",
       "</div>"
      ],
      "text/plain": [
       "  sample          Unit         Group     BOSL1s      BOSLF      BOSLM  \\\n",
       "0  bp100  Serra Grande  Serra Grande  12.811713  38.068407  33.330574   \n",
       "1  bp100  Serra Grande  Serra Grande  12.221442  38.772984  31.830463   \n",
       "2  bp100  Serra Grande  Serra Grande  13.004011  40.739419  32.236592   \n",
       "3  bp100  Serra Grande  Serra Grande  11.314952  39.443369  31.129080   \n",
       "4  bp102  Serra Grande  Serra Grande   3.490668   5.954731  19.595849   \n",
       "\n",
       "       BOSLS  IRSL1.2s/BOSL1s    TL110oC  TL110pos  TL325pos  \n",
       "0  28.601019        19.076664  76.183863      96.2     325.8  \n",
       "1  29.396553        29.591771  75.658334      96.2     325.8  \n",
       "2  27.023990        17.354350  77.313586      96.2     325.8  \n",
       "3  29.427551        27.822570  76.931064      96.2     324.0  \n",
       "4  74.449419       121.146848  58.377886      98.0     334.8  "
      ]
     },
     "metadata": {},
     "output_type": "display_data"
    },
    {
     "name": "stdout",
     "output_type": "stream",
     "text": [
      "['Cabecas' 'Longa' 'Motuca' 'Piaui' 'Pimenteiras' 'Poti' 'Sambaiba'\n",
      " 'Serra Grande']\n"
     ]
    }
   ],
   "source": [
    "df0=pd.read_excel('C:\\\\Users\\\\iande\\\\Documentos\\\\proyectos\\\\ML with lumi data\\\\osl_parnaiba_table.xlsx',sheet_name=\"by_aliquot\")\n",
    "df0 = df0.drop(columns=['Unnamed: 0'])\n",
    "df0 = df0.fillna(33.333)\n",
    "display(df0.head())\n",
    "print(np.unique(df0.Unit))"
   ]
  },
  {
   "cell_type": "code",
   "execution_count": 15,
   "metadata": {},
   "outputs": [
    {
     "name": "stderr",
     "output_type": "stream",
     "text": [
      "C:\\Users\\iande\\AppData\\Local\\Temp/ipykernel_12852/2015803680.py:5: UserWarning: Pandas doesn't allow columns to be created via a new attribute name - see https://pandas.pydata.org/pandas-docs/stable/indexing.html#attribute-access\n",
      "  df.data=df0.drop(columns=['sample','Unit','Group','BOSL1s'])\n"
     ]
    }
   ],
   "source": [
    "# Algoritmos de regressão\n",
    "#df9=df0.drop(columns=['sample','Unit','Group']) \n",
    "target=df0.BOSL1s\n",
    "\n",
    "df.data=df0.drop(columns=['sample','Unit','Group','BOSL1s'])"
   ]
  },
  {
   "cell_type": "code",
   "execution_count": 16,
   "metadata": {},
   "outputs": [],
   "source": [
    "'''\n",
    "min_max_scaler = sklearn.preprocessing.MinMaxScaler()\n",
    "\n",
    "def scaleColumns(dfDat, cols_to_scale):\n",
    "\n",
    "\n",
    "\tn_test = dfDat[cols_to_scale]\n",
    "#\tprint('Cols',n_test)\n",
    "\tcols_to_norm = cols_to_scale\n",
    "\tx = n_test.values\n",
    "\tmin_max_scaler = sklearn.preprocessing.MinMaxScaler()\n",
    "\tx_scaled = min_max_scaler.fit_transform(x)\n",
    "\tn_test = pd.DataFrame(x_scaled, columns=cols_to_norm)\n",
    "#\tl_test = dfDat.drop(cols_to_norm, axis=1)\n",
    "#\tdf_out = pd.concat([n_test, l_test], axis=1)\n",
    "\tdf_out=n_test\n",
    "\treturn(df_out)\n",
    "\n",
    "\n",
    "df.data=scaleColumns(df.data,df.data.columns)\n",
    "'''"
   ]
  },
  {
   "cell_type": "code",
   "execution_count": 17,
   "metadata": {},
   "outputs": [
    {
     "data": {
      "text/plain": [
       "RandomForestRegressor()"
      ]
     },
     "execution_count": 17,
     "metadata": {},
     "output_type": "execute_result"
    }
   ],
   "source": [
    "#Separando os dataset de treino e de teste\n",
    "X_train, X_test, y_train, y_test = train_test_split(df.data, target, test_size=0.4,random_state=50)\n",
    "\n",
    "#Treinando o modelo\n",
    "RFmodel=RandomForestRegressor()\n",
    "RFmodel.fit(X_train,y_train)"
   ]
  },
  {
   "cell_type": "code",
   "execution_count": 21,
   "metadata": {},
   "outputs": [
    {
     "name": "stdout",
     "output_type": "stream",
     "text": [
      "Erro root mean squared= 2.985781790146512\n"
     ]
    },
    {
     "data": {
      "text/html": [
       "<div>\n",
       "<style scoped>\n",
       "    .dataframe tbody tr th:only-of-type {\n",
       "        vertical-align: middle;\n",
       "    }\n",
       "\n",
       "    .dataframe tbody tr th {\n",
       "        vertical-align: top;\n",
       "    }\n",
       "\n",
       "    .dataframe thead th {\n",
       "        text-align: right;\n",
       "    }\n",
       "</style>\n",
       "<table border=\"1\" class=\"dataframe\">\n",
       "  <thead>\n",
       "    <tr style=\"text-align: right;\">\n",
       "      <th></th>\n",
       "      <th>y_test</th>\n",
       "      <th>y_pred</th>\n",
       "    </tr>\n",
       "  </thead>\n",
       "  <tbody>\n",
       "    <tr>\n",
       "      <th>20</th>\n",
       "      <td>29.382645</td>\n",
       "      <td>29.039248</td>\n",
       "    </tr>\n",
       "    <tr>\n",
       "      <th>153</th>\n",
       "      <td>4.230825</td>\n",
       "      <td>4.457659</td>\n",
       "    </tr>\n",
       "    <tr>\n",
       "      <th>16</th>\n",
       "      <td>6.384740</td>\n",
       "      <td>8.515980</td>\n",
       "    </tr>\n",
       "    <tr>\n",
       "      <th>3</th>\n",
       "      <td>11.314952</td>\n",
       "      <td>11.924493</td>\n",
       "    </tr>\n",
       "    <tr>\n",
       "      <th>227</th>\n",
       "      <td>13.671035</td>\n",
       "      <td>16.035463</td>\n",
       "    </tr>\n",
       "    <tr>\n",
       "      <th>...</th>\n",
       "      <td>...</td>\n",
       "      <td>...</td>\n",
       "    </tr>\n",
       "    <tr>\n",
       "      <th>273</th>\n",
       "      <td>4.884042</td>\n",
       "      <td>4.751963</td>\n",
       "    </tr>\n",
       "    <tr>\n",
       "      <th>12</th>\n",
       "      <td>4.218062</td>\n",
       "      <td>4.225832</td>\n",
       "    </tr>\n",
       "    <tr>\n",
       "      <th>194</th>\n",
       "      <td>5.673340</td>\n",
       "      <td>6.126596</td>\n",
       "    </tr>\n",
       "    <tr>\n",
       "      <th>201</th>\n",
       "      <td>4.011771</td>\n",
       "      <td>5.338822</td>\n",
       "    </tr>\n",
       "    <tr>\n",
       "      <th>119</th>\n",
       "      <td>9.842285</td>\n",
       "      <td>10.441899</td>\n",
       "    </tr>\n",
       "  </tbody>\n",
       "</table>\n",
       "<p>132 rows × 2 columns</p>\n",
       "</div>"
      ],
      "text/plain": [
       "        y_test     y_pred\n",
       "20   29.382645  29.039248\n",
       "153   4.230825   4.457659\n",
       "16    6.384740   8.515980\n",
       "3    11.314952  11.924493\n",
       "227  13.671035  16.035463\n",
       "..         ...        ...\n",
       "273   4.884042   4.751963\n",
       "12    4.218062   4.225832\n",
       "194   5.673340   6.126596\n",
       "201   4.011771   5.338822\n",
       "119   9.842285  10.441899\n",
       "\n",
       "[132 rows x 2 columns]"
      ]
     },
     "metadata": {},
     "output_type": "display_data"
    },
    {
     "data": {
      "text/plain": [
       "<AxesSubplot:ylabel='Count'>"
      ]
     },
     "execution_count": 21,
     "metadata": {},
     "output_type": "execute_result"
    },
    {
     "data": {
      "image/png": "[encoded data removed]",
      "text/plain": [
       "<Figure size 432x288 with 1 Axes>"
      ]
     },
     "metadata": {
      "needs_background": "light"
     },
     "output_type": "display_data"
    }
   ],
   "source": [
    "y_pred = RFmodel.predict(X_test)\n",
    "\n",
    "rmse=np.sqrt(mean_squared_error(y_test,y_pred))\n",
    "print(f'Erro root mean squared= {rmse}')\n",
    "\n",
    "dfTest=pd.DataFrame({'y_test':y_test, 'y_pred':y_pred})\n",
    "display(dfTest)\n",
    "\n",
    "#plt.figure(4)\n",
    "#plt.title('Histograma dos resíduos em porcentagem')\n",
    "sns.histplot((dfTest.y_test-dfTest.y_pred)/dfTest.y_test,bins=50)"
   ]
  },
  {
   "cell_type": "code",
   "execution_count": null,
   "metadata": {},
   "outputs": [],
   "source": []
  }
 ],
 "metadata": {
  "kernelspec": {
   "display_name": "Python 3 (ipykernel)",
   "language": "python",
   "name": "python3"
  },
  "language_info": {
   "codemirror_mode": {
    "name": "ipython",
    "version": 3
   },
   "file_extension": ".py",
   "mimetype": "text/x-python",
   "name": "python",
   "nbconvert_exporter": "python",
   "pygments_lexer": "ipython3",
   "version": "3.9.5"
  }
 },
 "nbformat": 4,
 "nbformat_minor": 4
}
